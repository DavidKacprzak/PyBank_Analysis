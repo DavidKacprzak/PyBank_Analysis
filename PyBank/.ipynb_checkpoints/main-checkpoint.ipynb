{
 "cells": [
  {
   "cell_type": "code",
   "execution_count": 1,
   "metadata": {},
   "outputs": [],
   "source": [
    "# Import pathlib library\n",
    "from pathlib import Path\n",
    "# Import csv library\n",
    "import csv"
   ]
  },
  {
   "cell_type": "code",
   "execution_count": 2,
   "metadata": {},
   "outputs": [],
   "source": [
    "# Set relative file path\n",
    "budget_data = Path(\"budget_data.csv\")"
   ]
  },
  {
   "cell_type": "code",
   "execution_count": 3,
   "metadata": {},
   "outputs": [],
   "source": [
    "# Assign variables\n",
    "month_count = 0\n",
    "total_pl = 0\n",
    "sum_change = 0\n",
    "min_change = 0\n",
    "max_change = 0"
   ]
  },
  {
   "cell_type": "code",
   "execution_count": 4,
   "metadata": {},
   "outputs": [],
   "source": [
    "# Initialize list of records\n",
    "records = []\n",
    "month_change = []"
   ]
  },
  {
   "cell_type": "code",
   "execution_count": 5,
   "metadata": {},
   "outputs": [
    {
     "name": "stdout",
     "output_type": "stream",
     "text": [
      "['Date', 'Profit/Losses']\n",
      "86\n",
      "38382578\n",
      "-2315.12\n",
      "1926159\n",
      "['Feb-2012']\n",
      "-2196167\n",
      "['Sep-2013']\n"
     ]
    }
   ],
   "source": [
    "# Open csv file as an object with read ('r') access only\n",
    "with open(budget_data, 'r') as csvfile:\n",
    "    # Use reader of the csv library and set the delimeter of the csv file which is comma\n",
    "    csvreader = csv.reader(csvfile, delimiter=\",\")\n",
    "    \n",
    "    # Read the header row\n",
    "    csv_header = next(csvreader)\n",
    "    # Print the header\n",
    "    print(csv_header)\n",
    "    \n",
    "    # Append a column named \"Change\" to the header\n",
    "    csv_header.append(\"Change\")\n",
    "    # Append the header to the list of records\n",
    "    records.append(csv_header)\n",
    "  \n",
    "    # Set \"previous\" variable for change calculation\n",
    "    # First_row references the header row\n",
    "    first_row = next(csvreader)\n",
    "    # Previous is set to reference the value of the line above the current iteration's value\n",
    "    previous = int(first_row[1])\n",
    "\n",
    "    \n",
    "    # Count the number of months i.e. rows\n",
    "    month_count += 1\n",
    "        \n",
    "    # Calculate the net profit/loss\n",
    "    total_pl += int(first_row[1])\n",
    "\n",
    "    # Read each row of data after the header\n",
    "    for row in csvreader:\n",
    "        \n",
    "        #Set variables for better readability and convert srtings to integers for calculations\n",
    "        date = row[0]\n",
    "        pl = int(row[1])\n",
    "\n",
    "        #Calculate the change month over month\n",
    "        change = int(row[1]) - previous\n",
    "        previous = int(row[1])\n",
    "        month_change = month_change + [change]\n",
    "        \n",
    "        # Count the number of months (within loop)\n",
    "        month_count += 1\n",
    "        # Calculate the net profit/loss (within loop)\n",
    "        total_pl += pl\n",
    "        # Calculate the average change month over month\n",
    "        sum_change += change\n",
    "        avg_change = round(sum_change / len(month_change), 2)\n",
    "        \n",
    "        \n",
    "        # Determine the min and max change \n",
    "        if min_change == 0:\n",
    "            min_change = change\n",
    "        elif change < min_change:\n",
    "            min_change = change\n",
    "            min_date = []\n",
    "            min_date.append(row[0])\n",
    "        elif change > max_change:\n",
    "            max_change = change\n",
    "            max_date = []\n",
    "            max_date.append(row[0])\n",
    "    \n",
    "    # Print to check calculations are working    \n",
    "    print(month_count)\n",
    "    print(total_pl)\n",
    "    print(avg_change)\n",
    "    print(max_change)\n",
    "    print(max_date)\n",
    "    print(min_change)\n",
    "    print(min_date)"
   ]
  },
  {
   "cell_type": "markdown",
   "metadata": {},
   "source": [
    "#### Print to Terminal"
   ]
  },
  {
   "cell_type": "code",
   "execution_count": 6,
   "metadata": {},
   "outputs": [
    {
     "name": "stdout",
     "output_type": "stream",
     "text": [
      "Financial Analysis\n",
      "----------------------------\n",
      "Total Months: 86\n",
      "Total: $38382578\n",
      "Average Change: $-2315.12\n",
      "Greatest Increase in Profits: ['Feb-2012'] ($1926159)\n",
      "Greatest Decrease in Profits: ['Sep-2013'] ($-2196167)\n"
     ]
    }
   ],
   "source": [
    "print(\"Financial Analysis\")\n",
    "print(\"----------------------------\")\n",
    "print(f\"Total Months: {month_count}\")\n",
    "print(f\"Total: ${total_pl}\")\n",
    "print(f\"Average Change: ${avg_change}\")\n",
    "print(f\"Greatest Increase in Profits: {max_date} (${max_change})\")\n",
    "print(f\"Greatest Decrease in Profits: {min_date} (${min_change})\")"
   ]
  },
  {
   "cell_type": "markdown",
   "metadata": {},
   "source": [
    "#### Print to Output File"
   ]
  },
  {
   "cell_type": "code",
   "execution_count": 7,
   "metadata": {},
   "outputs": [],
   "source": [
    "# Set relative path for the output file\n",
    "output = Path(\"BudgetAnalysisOutput.txt\")\n",
    "\n",
    "# Open the output file into the \"csv.writer()\" function with write ('w') access\n",
    "# Set the delimiter as \",\"\n",
    "with open(output, 'w') as csvfile:\n",
    "    # Write Total Months, Total, Average Change, Greatest Increase in Profits, and Greatest Decrease in Profits to output file and convert to string\n",
    "    csvfile.write(\"Financial Analysis\\n\")\n",
    "    csvfile.write(\"----------------------------\\n\")\n",
    "    csvfile.write(f\"Total Months: {month_count}\\n\")\n",
    "    csvfile.write(f\"Total: ${total_pl}\\n\")\n",
    "    csvfile.write(f\"Average Change: ${avg_change}\\n\")\n",
    "    csvfile.write(f\"Greatest Increase in Profits: {max_date} (${max_change})\\n\")\n",
    "    csvfile.write(f\"Greatest Decrease in Profits: {min_date} (${min_change})\")\n"
   ]
  },
  {
   "cell_type": "code",
   "execution_count": null,
   "metadata": {},
   "outputs": [],
   "source": []
  }
 ],
 "metadata": {
  "kernelspec": {
   "display_name": "Python 3",
   "language": "python",
   "name": "python3"
  },
  "language_info": {
   "codemirror_mode": {
    "name": "ipython",
    "version": 3
   },
   "file_extension": ".py",
   "mimetype": "text/x-python",
   "name": "python",
   "nbconvert_exporter": "python",
   "pygments_lexer": "ipython3",
   "version": "3.7.6"
  }
 },
 "nbformat": 4,
 "nbformat_minor": 4
}
